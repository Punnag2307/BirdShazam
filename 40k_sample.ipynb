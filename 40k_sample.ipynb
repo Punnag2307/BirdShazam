{
 "cells": [
  {
   "cell_type": "code",
   "execution_count": 23,
   "id": "9890366f-7126-4dce-8e57-343450d0ba67",
   "metadata": {},
   "outputs": [
    {
     "name": "stdout",
     "output_type": "stream",
     "text": [
      "Species included: 181\n",
      "Total: 40335, Train: 32268, Val: 8067\n"
     ]
    }
   ],
   "source": [
    "import os\n",
    "import random\n",
    "import pandas as pd\n",
    "from sklearn.model_selection import train_test_split\n",
    "\n",
    "spectrogram_root = \"E:/birdclef-2024/spectrograms\"\n",
    "samples_per_class = 250\n",
    "\n",
    "data = []\n",
    "species_dirs = os.listdir(spectrogram_root)\n",
    "\n",
    "for species in species_dirs:\n",
    "    species_dir = os.path.join(spectrogram_root, species)\n",
    "    if not os.path.isdir(species_dir):\n",
    "        continue\n",
    "    \n",
    "    all_files = [f for f in os.listdir(species_dir) if f.endswith(\".png\")]\n",
    "    selected_files = all_files if len(all_files) <= samples_per_class else random.sample(all_files, samples_per_class)\n",
    "\n",
    "    for f in selected_files:\n",
    "        data.append({\n",
    "            \"filepath\": os.path.join(species_dir, f),\n",
    "            \"label\": species\n",
    "        })\n",
    "\n",
    "# Create DataFrame and shuffle\n",
    "df = pd.DataFrame(data)\n",
    "df = df.sample(frac=1, random_state=42).reset_index(drop=True)\n",
    "df.to_csv(\"balanced_dataset_inc.csv\", index=False)\n",
    "\n",
    "# ✅ Stratified Train/Val Split\n",
    "train_df, val_df = train_test_split(df, test_size=0.2, stratify=df[\"label\"], random_state=42)\n",
    "train_df.to_csv(\"train_split_inc.csv\", index=False)\n",
    "val_df.to_csv(\"val_split_inc.csv\", index=False)\n",
    "\n",
    "print(f\"Species included: {df['label'].nunique()}\")\n",
    "print(f\"Total: {len(df)}, Train: {len(train_df)}, Val: {len(val_df)}\")\n"
   ]
  },
  {
   "cell_type": "code",
   "execution_count": 25,
   "id": "b76f20c8-22a0-4fa4-b99d-b1f7f635d93b",
   "metadata": {},
   "outputs": [],
   "source": [
    "import pandas as pd\n",
    "from torchvision import transforms\n",
    "from torch.utils.data import DataLoader, Dataset\n",
    "from PIL import Image\n",
    "import torch\n",
    "import os\n",
    "\n",
    "# Read CSVs\n",
    "train_df = pd.read_csv(\"train_split_inc.csv\")\n",
    "val_df = pd.read_csv(\"val_split_inc.csv\")\n",
    "\n",
    "label2idx = {label: idx for idx, label in enumerate(sorted(train_df['label'].unique()))}\n",
    "\n",
    "image_transforms = transforms.Compose([\n",
    "    transforms.Resize((300, 300)),\n",
    "    transforms.ToTensor(),\n",
    "    transforms.Normalize([0.5]*3, [0.5]*3)  # Adjust if needed\n",
    "])\n"
   ]
  },
  {
   "cell_type": "code",
   "execution_count": 27,
   "id": "84d97a98-f308-49d1-94a3-058709e91730",
   "metadata": {},
   "outputs": [],
   "source": [
    "class BirdCLEFDataset(Dataset):\n",
    "    def __init__(self, df, transform=None, label2idx=None):\n",
    "        self.df = df.reset_index(drop=True)\n",
    "        self.transform = transform\n",
    "        self.label2idx = label2idx\n",
    "\n",
    "    def __len__(self):\n",
    "        return len(self.df)\n",
    "\n",
    "    def __getitem__(self, idx):\n",
    "        row = self.df.loc[idx]\n",
    "        image = Image.open(row['filepath']).convert(\"RGB\")\n",
    "        label = self.label2idx[row['label']]\n",
    "        if self.transform:\n",
    "            image = self.transform(image)\n",
    "        return image, label\n"
   ]
  },
  {
   "cell_type": "code",
   "execution_count": 29,
   "id": "093b8c32-2078-45cb-a103-e0857e62a5fa",
   "metadata": {},
   "outputs": [],
   "source": [
    "train_dataset = BirdCLEFDataset(train_df, transform=image_transforms, label2idx=label2idx)\n",
    "val_dataset = BirdCLEFDataset(val_df, transform=image_transforms, label2idx=label2idx)\n",
    "\n",
    "# Dataloaders\n",
    "train_loader = DataLoader(train_dataset, batch_size=32, shuffle=True)\n",
    "val_loader = DataLoader(val_dataset, batch_size=32)\n"
   ]
  },
  {
   "cell_type": "code",
   "execution_count": 31,
   "id": "a1fd2643-7ceb-4e1e-b7a7-869a6f105a42",
   "metadata": {},
   "outputs": [],
   "source": [
    "import timm\n",
    "import torch.nn as nn\n",
    "import torch\n",
    "\n",
    "device = torch.device(\"cuda\" if torch.cuda.is_available() else \"cpu\")\n",
    "\n",
    "model = timm.create_model(\"efficientnet_b3\", pretrained=True, num_classes=181)\n",
    "model = model.to(device)\n"
   ]
  },
  {
   "cell_type": "code",
   "execution_count": 33,
   "id": "d2e4f973-3b8c-451f-872f-06e2132a1763",
   "metadata": {},
   "outputs": [],
   "source": [
    "import torch.optim as optim\n",
    "\n",
    "criterion = nn.CrossEntropyLoss()\n",
    "optimizer = optim.Adam(model.parameters(), lr=1e-4)\n",
    "scheduler = optim.lr_scheduler.ReduceLROnPlateau(optimizer, mode='min', patience=2, factor=0.5)"
   ]
  },
  {
   "cell_type": "code",
   "execution_count": 35,
   "id": "2d097aff-5a2f-40d1-95bc-1bf797a8c44d",
   "metadata": {},
   "outputs": [],
   "source": [
    "def evaluate(model, loader):\n",
    "    model.eval()\n",
    "    correct = 0\n",
    "    total = 0\n",
    "    with torch.no_grad():\n",
    "        for images, labels in loader:\n",
    "            images, labels = images.to(device), labels.to(device)\n",
    "            outputs = model(images)\n",
    "            _, preds = torch.max(outputs, 1)\n",
    "            correct += (preds == labels).sum().item()\n",
    "            total += labels.size(0)\n",
    "    return 100 * correct / total\n"
   ]
  },
  {
   "cell_type": "code",
   "execution_count": null,
   "id": "6162d7c3-d05c-4dfe-847a-80dea9386d88",
   "metadata": {},
   "outputs": [
    {
     "name": "stderr",
     "output_type": "stream",
     "text": [
      "                                                                            \r"
     ]
    },
    {
     "name": "stdout",
     "output_type": "stream",
     "text": [
      "Epoch 1 | Loss: 3.5246 | Train Acc: 28.18% | Val Acc: 53.03%\n",
      "💾 Saved model after epoch 1 as efficientnet_b3_epoch1.pth\n",
      "🏅 Saved best model at epoch 1 with Val Acc: 53.03%\n"
     ]
    },
    {
     "name": "stderr",
     "output_type": "stream",
     "text": [
      "                                                                            \r"
     ]
    },
    {
     "name": "stdout",
     "output_type": "stream",
     "text": [
      "Epoch 2 | Loss: 1.5879 | Train Acc: 65.10% | Val Acc: 68.67%\n",
      "💾 Saved model after epoch 2 as efficientnet_b3_epoch2.pth\n",
      "🏅 Saved best model at epoch 2 with Val Acc: 68.67%\n"
     ]
    },
    {
     "name": "stderr",
     "output_type": "stream",
     "text": [
      "                                                                            \r"
     ]
    },
    {
     "name": "stdout",
     "output_type": "stream",
     "text": [
      "Epoch 3 | Loss: 0.8213 | Train Acc: 82.03% | Val Acc: 73.83%\n",
      "💾 Saved model after epoch 3 as efficientnet_b3_epoch3.pth\n",
      "🏅 Saved best model at epoch 3 with Val Acc: 73.83%\n"
     ]
    },
    {
     "name": "stderr",
     "output_type": "stream",
     "text": [
      "                                                                            \r"
     ]
    },
    {
     "name": "stdout",
     "output_type": "stream",
     "text": [
      "Epoch 4 | Loss: 0.3841 | Train Acc: 92.13% | Val Acc: 75.33%\n",
      "💾 Saved model after epoch 4 as efficientnet_b3_epoch4.pth\n",
      "🏅 Saved best model at epoch 4 with Val Acc: 75.33%\n"
     ]
    },
    {
     "name": "stderr",
     "output_type": "stream",
     "text": [
      "Epoch 5/6:  86%|████████▌ | 866/1009 [1:19:26<13:01,  5.46s/it, loss=0.112] "
     ]
    }
   ],
   "source": [
    "from tqdm import tqdm\n",
    "import gc\n",
    "import torch\n",
    "\n",
    "best_val_acc = 0\n",
    "patience = 3\n",
    "counter = 0\n",
    "num_epochs = 6\n",
    "early_stop = False\n",
    "\n",
    "for epoch in range(num_epochs):\n",
    "    if early_stop:\n",
    "        print(\"⏹️ Early stopping triggered.\")\n",
    "        break\n",
    "\n",
    "    model.train()\n",
    "    running_loss = 0\n",
    "    correct = 0\n",
    "    total = 0\n",
    "\n",
    "    loop = tqdm(train_loader, desc=f\"Epoch {epoch+1}/{num_epochs}\", leave=False)\n",
    "\n",
    "    for images, labels in loop:\n",
    "        images, labels = images.to(device), labels.to(device)\n",
    "\n",
    "        optimizer.zero_grad()\n",
    "        outputs = model(images)\n",
    "        loss = criterion(outputs, labels)\n",
    "        loss.backward()\n",
    "        optimizer.step()\n",
    "\n",
    "        running_loss += loss.item()\n",
    "        _, preds = torch.max(outputs, 1)\n",
    "        correct += (preds == labels).sum().item()\n",
    "        total += labels.size(0)\n",
    "\n",
    "        loop.set_postfix(loss=loss.item())\n",
    "\n",
    "        # ✅ Inside-loop cleanup\n",
    "        del images, labels, outputs\n",
    "        torch.cuda.empty_cache()\n",
    "\n",
    "    # ✅ Epoch-level metrics\n",
    "    avg_loss = running_loss / len(train_loader)\n",
    "    train_acc = 100 * correct / total\n",
    "    val_acc = evaluate(model, val_loader)\n",
    "\n",
    "    # Optional scheduler\n",
    "    if \"scheduler\" in locals():\n",
    "        scheduler.step(avg_loss)\n",
    "\n",
    "    print(f\"Epoch {epoch+1} | Loss: {avg_loss:.4f} | Train Acc: {train_acc:.2f}% | Val Acc: {val_acc:.2f}%\")\n",
    "\n",
    "    # ✅ Save model after every epoch\n",
    "    torch.save(model.state_dict(), f\"efficientnet_b3_epoch{epoch+1}.pth\")\n",
    "    print(f\"💾 Saved model after epoch {epoch+1} as efficientnet_b3_epoch{epoch+1}.pth\")\n",
    "\n",
    "    # ✅ Save best separately\n",
    "    if val_acc > best_val_acc:\n",
    "        best_val_acc = val_acc\n",
    "        torch.save(model.state_dict(), \"best_efficientnet_b3_model.pth\")\n",
    "        print(f\"🏅 Saved best model at epoch {epoch+1} with Val Acc: {val_acc:.2f}%\")\n",
    "        counter = 0\n",
    "    else:\n",
    "        counter += 1\n",
    "        if counter >= patience:\n",
    "            early_stop = True\n",
    "            print(\"🛑 No improvement for 3 epochs. Early stopping.\")\n",
    "\n",
    "    gc.collect()\n",
    "    torch.cuda.empty_cache()\n"
   ]
  },
  {
   "cell_type": "code",
   "execution_count": null,
   "id": "cbcc8212-69fa-476b-bd28-884eb1c0ae19",
   "metadata": {},
   "outputs": [],
   "source": [
    "model.load_state_dict(torch.load(\"efficientnet_b3_epoch4.pth\", map_location=device))\n",
    "model.to(device)\n",
    "model.eval()\n"
   ]
  }
 ],
 "metadata": {
  "kernelspec": {
   "display_name": "Python 3 (ipykernel)",
   "language": "python",
   "name": "python3"
  },
  "language_info": {
   "codemirror_mode": {
    "name": "ipython",
    "version": 3
   },
   "file_extension": ".py",
   "mimetype": "text/x-python",
   "name": "python",
   "nbconvert_exporter": "python",
   "pygments_lexer": "ipython3",
   "version": "3.12.3"
  }
 },
 "nbformat": 4,
 "nbformat_minor": 5
}
