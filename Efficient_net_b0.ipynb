{
 "cells": [
  {
   "cell_type": "code",
   "execution_count": null,
   "id": "36d616a8-b0a1-4a78-b568-a058ef99b8fe",
   "metadata": {},
   "outputs": [],
   "source": [
    "import os\n",
    "import random\n",
    "import pandas as pd\n",
    "from sklearn.model_selection import train_test_split\n",
    "\n",
    "# Path to your spectrograms folder\n",
    "spectrogram_root = \"E:/birdclef-2024/spectrograms\"\n",
    "samples_per_class = 50  # Max number of samples per species\n",
    "\n",
    "data = []\n",
    "species_dirs = os.listdir(spectrogram_root)\n",
    "\n",
    "for species in species_dirs:\n",
    "    species_dir = os.path.join(spectrogram_root, species)\n",
    "    if not os.path.isdir(species_dir):\n",
    "        continue\n",
    "    \n",
    "    all_files = [f for f in os.listdir(species_dir) if f.endswith(\".png\")]\n",
    "    \n",
    "    # Take all if less than 50, else randomly sample 50\n",
    "    selected_files = all_files if len(all_files) <= samples_per_class else random.sample(all_files, samples_per_class)\n",
    "\n",
    "    for f in selected_files:\n",
    "        data.append({\n",
    "            \"filepath\": os.path.join(species_dir, f),\n",
    "            \"label\": species\n",
    "        })\n",
    "\n",
    "# Create DataFrame and save full balanced dataset\n",
    "df = pd.DataFrame(data)\n",
    "df.to_csv(\"balanced_dataset.csv\", index=False)\n",
    "\n",
    "# Stratified Train/Validation Split\n",
    "train_df, val_df = train_test_split(df, test_size=0.2, stratify=df[\"label\"], random_state=42)\n",
    "train_df.to_csv(\"train_split.csv\", index=False)\n",
    "val_df.to_csv(\"val_split.csv\", index=False)\n",
    "\n",
    "print(f\"Species included: {df['label'].nunique()}\")\n",
    "print(f\"Total: {len(df)}, Train: {len(train_df)}, Val: {len(val_df)}\")\n"
   ]
  },
  {
   "cell_type": "code",
   "execution_count": null,
   "id": "7f67323f-7f42-46e8-8e59-ac7d7ad6f209",
   "metadata": {},
   "outputs": [],
   "source": [
    "import pandas as pd\n",
    "from torchvision import transforms\n",
    "from torch.utils.data import DataLoader, Dataset\n",
    "from PIL import Image\n",
    "import torch\n",
    "import os\n",
    "\n",
    "# Read CSVs\n",
    "train_df = pd.read_csv(\"train_split.csv\")\n",
    "val_df = pd.read_csv(\"val_split.csv\")\n",
    "\n",
    "label2idx = {label: idx for idx, label in enumerate(sorted(train_df['label'].unique()))}\n",
    "\n",
    "# Image Transform\n",
    "image_transforms = transforms.Compose([\n",
    "    transforms.Resize((224, 224)),\n",
    "    transforms.ToTensor(),\n",
    "    transforms.Normalize([0.5]*3, [0.5]*3)\n",
    "])\n"
   ]
  },
  {
   "cell_type": "code",
   "execution_count": null,
   "id": "f07a94e4-64df-4426-a7f0-6a0666fa64de",
   "metadata": {},
   "outputs": [],
   "source": [
    "class BirdCLEFDataset(Dataset):\n",
    "    def __init__(self, df, transform=None, label2idx=None):\n",
    "        self.df = df.reset_index(drop=True)\n",
    "        self.transform = transform\n",
    "        self.label2idx = label2idx\n",
    "\n",
    "    def __len__(self):\n",
    "        return len(self.df)\n",
    "\n",
    "    def __getitem__(self, idx):\n",
    "        row = self.df.loc[idx]\n",
    "        image = Image.open(row['filepath']).convert(\"RGB\")\n",
    "        label = self.label2idx[row['label']]\n",
    "        \n",
    "        if self.transform:\n",
    "            image = self.transform(image)\n",
    "        return image, label\n"
   ]
  },
  {
   "cell_type": "code",
   "execution_count": null,
   "id": "20f1ddb0-36f9-4caf-b8f0-a51e864ece66",
   "metadata": {},
   "outputs": [],
   "source": [
    "train_dataset = BirdCLEFDataset(train_df, transform=image_transforms, label2idx=label2idx)\n",
    "val_dataset = BirdCLEFDataset(val_df, transform=image_transforms, label2idx=label2idx)\n",
    "\n",
    "# Dataloaders\n",
    "train_loader = DataLoader(train_dataset, batch_size=32, shuffle=True)\n",
    "val_loader = DataLoader(val_dataset, batch_size=32)\n"
   ]
  },
  {
   "cell_type": "code",
   "execution_count": null,
   "id": "2a03a94e-1a4b-43aa-bffa-fc4d5bdb3575",
   "metadata": {},
   "outputs": [],
   "source": [
    "import torchvision.models as models\n",
    "import torch.nn as nn\n",
    "\n",
    "device = torch.device(\"cuda\" if torch.cuda.is_available() else \"cpu\")\n",
    "\n",
    "model = models.efficientnet_b0(pretrained=True)\n",
    "model.classifier[1] = nn.Linear(model.classifier[1].in_features, 181)  # 181 classes\n",
    "model = model.to(device)\n"
   ]
  },
  {
   "cell_type": "code",
   "execution_count": null,
   "id": "61dbfabb-c783-4d92-b9cd-90347a91b49f",
   "metadata": {},
   "outputs": [],
   "source": [
    "import torch.optim as optim\n",
    "\n",
    "criterion = nn.CrossEntropyLoss()\n",
    "optimizer = optim.Adam(model.parameters(), lr=1e-4)\n"
   ]
  },
  {
   "cell_type": "code",
   "execution_count": null,
   "id": "989b0d2a-8900-44ad-8e41-1d64d0b88546",
   "metadata": {},
   "outputs": [],
   "source": [
    "for epoch in range(10):  # You can increase this\n",
    "    model.train()\n",
    "    total_loss = 0\n",
    "    for images, labels in train_loader:\n",
    "        images, labels = images.to(device), labels.to(device)\n",
    "\n",
    "        optimizer.zero_grad()\n",
    "        outputs = model(images)\n",
    "        loss = criterion(outputs, labels)\n",
    "        loss.backward()\n",
    "        optimizer.step()\n",
    "\n",
    "        total_loss += loss.item()\n",
    "    \n",
    "    print(f\"Epoch {epoch+1}, Training Loss: {total_loss:.4f}\")\n"
   ]
  },
  {
   "cell_type": "code",
   "execution_count": null,
   "id": "51ff07b7-73dd-4663-a044-2947beb9a6e0",
   "metadata": {},
   "outputs": [],
   "source": [
    "def evaluate(model, loader):\n",
    "    model.eval()\n",
    "    correct = 0\n",
    "    total = 0\n",
    "\n",
    "    with torch.no_grad():\n",
    "        for images, labels in loader:\n",
    "            images, labels = images.to(device), labels.to(device)\n",
    "            outputs = model(images)\n",
    "            _, preds = torch.max(outputs, 1)\n",
    "            correct += (preds == labels).sum().item()\n",
    "            total += labels.size(0)\n",
    "\n",
    "    print(f\"Validation Accuracy: {100 * correct / total:.2f}%\")\n",
    "\n",
    "evaluate(model, val_loader)\n"
   ]
  },
  {
   "cell_type": "code",
   "execution_count": null,
   "id": "83f43cdb-63ee-4e8f-8842-7878f4c50238",
   "metadata": {},
   "outputs": [],
   "source": [
    "torch.save(model.state_dict(), \"birdclef_efficientnet_b0.pth\")\n"
   ]
  },
  {
   "cell_type": "code",
   "execution_count": null,
   "id": "df76a644-89a9-4519-bf7d-f7d65813a393",
   "metadata": {},
   "outputs": [],
   "source": [
    "from sklearn.metrics import classification_report, confusion_matrix, accuracy_score, top_k_accuracy_score\n",
    "import numpy as np\n",
    "\n",
    "def get_validation_metrics(model, loader, label_names):\n",
    "    model.eval()\n",
    "    all_preds = []\n",
    "    all_probs = []\n",
    "    all_labels = []\n",
    "\n",
    "    with torch.no_grad():\n",
    "        for images, labels in loader:\n",
    "            images = images.to(device)\n",
    "            labels = labels.to(device)\n",
    "\n",
    "            outputs = model(images)\n",
    "            probs = torch.softmax(outputs, dim=1)\n",
    "            preds = torch.argmax(probs, dim=1)\n",
    "\n",
    "            all_preds.extend(preds.cpu().numpy())\n",
    "            all_probs.extend(probs.cpu().numpy())\n",
    "            all_labels.extend(labels.cpu().numpy())\n",
    "\n",
    "    # Metrics\n",
    "    print(\"🔍 Classification Report:\\n\")\n",
    "    print(classification_report(all_labels, all_preds, target_names=label_names, zero_division=0))\n",
    "\n",
    "    print(\"🔍 Confusion Matrix:\\n\")\n",
    "    cm = confusion_matrix(all_labels, all_preds)\n",
    "    print(cm)\n",
    "\n",
    "    # Optional: Top-3 Accuracy\n",
    "    top3 = top_k_accuracy_score(all_labels, np.array(all_probs), k=3)\n",
    "    print(f\"\\n🎯 Top-3 Accuracy: {top3 * 100:.2f}%\")\n",
    "\n",
    "    return all_preds, all_labels\n",
    "\n"
   ]
  },
  {
   "cell_type": "code",
   "execution_count": null,
   "id": "8c6b39e2-ce74-4e9a-828f-593683b9c2d6",
   "metadata": {},
   "outputs": [],
   "source": [
    "label_names = list(train_dataset.label2idx.keys())\n"
   ]
  },
  {
   "cell_type": "code",
   "execution_count": null,
   "id": "eaf7f493-30ba-4bed-87da-8c072dbf018c",
   "metadata": {},
   "outputs": [],
   "source": [
    "get_validation_metrics(model, val_loader, label_names)\n"
   ]
  },
  {
   "cell_type": "code",
   "execution_count": null,
   "id": "6bd01f8f-0da0-4b40-adfd-0c1a8d886eec",
   "metadata": {},
   "outputs": [],
   "source": [
    "def collect_predictions(model, loader, label_names, dataframe):\n",
    "    model.eval()\n",
    "    results = []\n",
    "\n",
    "    with torch.no_grad():\n",
    "        for i, (images, labels) in enumerate(loader):\n",
    "            images = images.to(device)\n",
    "            labels = labels.to(device)\n",
    "\n",
    "            outputs = model(images)\n",
    "            preds = torch.argmax(outputs, dim=1)\n",
    "\n",
    "            for j in range(len(labels)):\n",
    "                results.append({\n",
    "                    \"filepath\": dataframe.iloc[i * loader.batch_size + j][\"filepath\"],\n",
    "                    \"true_label\": label_names[labels[j].item()],\n",
    "                    \"pred_label\": label_names[preds[j].item()],\n",
    "                    \"correct\": labels[j].item() == preds[j].item()\n",
    "                })\n",
    "\n",
    "    return pd.DataFrame(results)\n"
   ]
  },
  {
   "cell_type": "code",
   "execution_count": null,
   "id": "a03bac9e-3a73-4686-ba05-67f97b4548c0",
   "metadata": {},
   "outputs": [],
   "source": [
    "prediction_df = collect_predictions(model, val_loader, label_names, val_df)\n",
    "prediction_df.to_csv(\"val_predictions.csv\", index=False)\n",
    "\n",
    "# Preview\n",
    "print(prediction_df.head())\n"
   ]
  },
  {
   "cell_type": "code",
   "execution_count": null,
   "id": "daf7ebb9-47a3-4de1-9e6b-2caec11587fd",
   "metadata": {},
   "outputs": [],
   "source": [
    "correct_preds = prediction_df[prediction_df[\"correct\"] == True]\n",
    "incorrect_preds = prediction_df[prediction_df[\"correct\"] == False]\n",
    "\n",
    "print(f\"✅ Correct Predictions: {len(correct_preds)}\")\n",
    "print(f\"❌ Incorrect Predictions: {len(incorrect_preds)}\")\n",
    "print(f\"🔢 Total Samples Evaluated: {len(prediction_df)}\")\n"
   ]
  },
  {
   "cell_type": "code",
   "execution_count": null,
   "id": "8be4a953-01d2-4cd8-a2ed-4205060a76fd",
   "metadata": {},
   "outputs": [],
   "source": [
    "from PIL import Image\n",
    "import matplotlib.pyplot as plt\n",
    "\n",
    "# Show 5 correct predictions\n",
    "for _, row in correct_preds.sample(5).iterrows():\n",
    "    img = Image.open(row['filepath'])\n",
    "    plt.imshow(img)\n",
    "    plt.title(f\"✅ Predicted: {row['pred_label']} | True: {row['true_label']}\")\n",
    "    plt.axis(\"off\")\n",
    "    plt.show()\n",
    "\n",
    "# Show 2 incorrect predictions\n",
    "for _, row in incorrect_preds.sample(2).iterrows():\n",
    "    img = Image.open(row['filepath'])\n",
    "    plt.imshow(img)\n",
    "    plt.title(f\"❌ Predicted: {row['pred_label']} | True: {row['true_label']}\")\n",
    "    plt.axis(\"off\")\n",
    "    plt.show()\n"
   ]
  },
  {
   "cell_type": "code",
   "execution_count": null,
   "id": "a7fd78ed-3444-4194-afca-3bffa03f977f",
   "metadata": {},
   "outputs": [],
   "source": []
  }
 ],
 "metadata": {
  "kernelspec": {
   "display_name": "Python 3 (ipykernel)",
   "language": "python",
   "name": "python3"
  },
  "language_info": {
   "codemirror_mode": {
    "name": "ipython",
    "version": 3
   },
   "file_extension": ".py",
   "mimetype": "text/x-python",
   "name": "python",
   "nbconvert_exporter": "python",
   "pygments_lexer": "ipython3",
   "version": "3.12.3"
  }
 },
 "nbformat": 4,
 "nbformat_minor": 5
}
