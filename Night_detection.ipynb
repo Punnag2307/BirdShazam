{
 "cells": [
  {
   "cell_type": "code",
   "execution_count": 11,
   "id": "d64592be-469a-4edb-862b-e8adf269c5f2",
   "metadata": {},
   "outputs": [
    {
     "name": "stdout",
     "output_type": "stream",
     "text": [
      "🔍 Found 329747 .wav files.\n"
     ]
    },
    {
     "name": "stderr",
     "output_type": "stream",
     "text": [
      "100%|██████████| 329747/329747 [1:55:11<00:00, 47.71it/s]  \n"
     ]
    },
    {
     "name": "stdout",
     "output_type": "stream",
     "text": [
      "✅ Saved 329747 entries to night_flagged_audio.csv\n",
      "🌙 Night-flagged chunks: 10132\n"
     ]
    }
   ],
   "source": [
    "import os\n",
    "import librosa\n",
    "import pandas as pd\n",
    "from tqdm import tqdm\n",
    "\n",
    "audio_dir = \"E:/birdclef-2024/processed_audio\"\n",
    "output_csv = \"night_flagged_audio.csv\"\n",
    "\n",
    "flat_thresh = 0.15\n",
    "rms_thresh = 0.02\n",
    "\n",
    "results = []\n",
    "\n",
    "# ✅ Recursively collect all .wav files\n",
    "all_files = []\n",
    "for root, _, files in os.walk(audio_dir):\n",
    "    for f in files:\n",
    "        if f.lower().endswith(\".wav\"):\n",
    "            all_files.append(os.path.join(root, f))\n",
    "\n",
    "print(f\"🔍 Found {len(all_files)} .wav files.\")\n",
    "\n",
    "for fpath in tqdm(all_files):\n",
    "    fname = os.path.relpath(fpath, audio_dir)  # Save relative path\n",
    "    try:\n",
    "        y, sr = librosa.load(fpath, sr=32000)\n",
    "        flatness = float(librosa.feature.spectral_flatness(y=y).mean())\n",
    "        rms = float(librosa.feature.rms(y=y).mean())\n",
    "        night_predicted = 1 if (flatness > flat_thresh and rms < rms_thresh) else 0\n",
    "\n",
    "        results.append({\n",
    "            \"filename\": fname,\n",
    "            \"flatness\": flatness,\n",
    "            \"rms\": rms,\n",
    "            \"night_predicted\": night_predicted\n",
    "        })\n",
    "\n",
    "    except Exception as e:\n",
    "        print(f\"❌ Failed to load {fname}: {e}\")\n",
    "\n",
    "# ✅ Save output\n",
    "if results:\n",
    "    df = pd.DataFrame(results)\n",
    "    df.to_csv(output_csv, index=False)\n",
    "    print(f\"✅ Saved {len(df)} entries to {output_csv}\")\n",
    "    print(f\"🌙 Night-flagged chunks: {df[df['night_predicted'] == 1].shape[0]}\")\n",
    "else:\n",
    "    print(\"⚠️ Still no audio processed — check file access or format.\")\n"
   ]
  },
  {
   "cell_type": "code",
   "execution_count": 15,
   "id": "dceab483-7beb-4268-8f8c-51d5701747fd",
   "metadata": {},
   "outputs": [
    {
     "name": "stdout",
     "output_type": "stream",
     "text": [
      "🔍 Found 81279 .wav files.\n"
     ]
    },
    {
     "name": "stderr",
     "output_type": "stream",
     "text": [
      "100%|██████████| 81279/81279 [39:28<00:00, 34.32it/s]\n"
     ]
    },
    {
     "name": "stdout",
     "output_type": "stream",
     "text": [
      "✅ Saved 81279 entries to night_flagged_audio.csv\n",
      "🌙 Night-flagged chunks: 8071\n"
     ]
    }
   ],
   "source": [
    "import os\n",
    "import librosa\n",
    "import pandas as pd\n",
    "from tqdm import tqdm\n",
    "\n",
    "audio_dir = \"E:/birdclef-2024/unlabeled_segments_filtered\"\n",
    "output_csv = \"night_flagged_audio.csv\"\n",
    "\n",
    "flat_thresh = 0.15\n",
    "rms_thresh = 0.02\n",
    "\n",
    "results = []\n",
    "\n",
    "# ✅ Recursively collect all .wav files\n",
    "all_files = []\n",
    "for root, _, files in os.walk(audio_dir):\n",
    "    for f in files:\n",
    "        if f.lower().endswith(\".wav\"):\n",
    "            all_files.append(os.path.join(root, f))\n",
    "\n",
    "print(f\"🔍 Found {len(all_files)} .wav files.\")\n",
    "\n",
    "for fpath in tqdm(all_files):\n",
    "    fname = os.path.relpath(fpath, audio_dir)  # Save relative path\n",
    "    try:\n",
    "        y, sr = librosa.load(fpath, sr=32000)\n",
    "        flatness = float(librosa.feature.spectral_flatness(y=y).mean())\n",
    "        rms = float(librosa.feature.rms(y=y).mean())\n",
    "        night_predicted = 1 if (flatness > flat_thresh and rms < rms_thresh) else 0\n",
    "\n",
    "        results.append({\n",
    "            \"filename\": fname,\n",
    "            \"flatness\": flatness,\n",
    "            \"rms\": rms,\n",
    "            \"night_predicted\": night_predicted\n",
    "        })\n",
    "\n",
    "    except Exception as e:\n",
    "        print(f\"❌ Failed to load {fname}: {e}\")\n",
    "\n",
    "# ✅ Save output\n",
    "if results:\n",
    "    df = pd.DataFrame(results)\n",
    "    df.to_csv(output_csv, index=False)\n",
    "    print(f\"✅ Saved {len(df)} entries to {output_csv}\")\n",
    "    print(f\"🌙 Night-flagged chunks: {df[df['night_predicted'] == 1].shape[0]}\")\n",
    "else:\n",
    "    print(\"⚠️ Still no audio processed — check file access or format.\")\n"
   ]
  },
  {
   "cell_type": "code",
   "execution_count": null,
   "id": "df5a1cb3-0e3f-47f4-b898-1d1832bcf15a",
   "metadata": {},
   "outputs": [],
   "source": []
  }
 ],
 "metadata": {
  "kernelspec": {
   "display_name": "Python 3 (ipykernel)",
   "language": "python",
   "name": "python3"
  },
  "language_info": {
   "codemirror_mode": {
    "name": "ipython",
    "version": 3
   },
   "file_extension": ".py",
   "mimetype": "text/x-python",
   "name": "python",
   "nbconvert_exporter": "python",
   "pygments_lexer": "ipython3",
   "version": "3.12.3"
  }
 },
 "nbformat": 4,
 "nbformat_minor": 5
}
